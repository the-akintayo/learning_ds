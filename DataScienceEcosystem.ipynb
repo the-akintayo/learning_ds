{
 "cells": [
  {
   "cell_type": "markdown",
   "id": "ad2fbe46-63a6-4069-a4e6-348dcf622df9",
   "metadata": {},
   "source": [
    "# Data Science Tools and Ecosystem"
   ]
  },
  {
   "cell_type": "markdown",
   "id": "80fe9f36-f852-43e7-9055-954c795b2794",
   "metadata": {},
   "source": [
    "In this notebook, Data Science Tools and Ecosystem are summarized"
   ]
  },
  {
   "cell_type": "markdown",
   "id": "32fb4021-4a67-4922-b573-af3fe3c4ac4f",
   "metadata": {},
   "source": [
    "Objectives:\n",
    "1. List popular languages for Data Science\n",
    "2. List commonly used libraries used by Data Scientists\n",
    "3. Creating tables in Markdown\n",
    "4. Writing Arithmetic Expressions in Python\n",
    "5. Inserting cells in Jupyter notebook"
   ]
  },
  {
   "cell_type": "markdown",
   "id": "1e9f0b24-b81b-4ecc-9873-02975c1946ed",
   "metadata": {},
   "source": [
    "Some of the popular languages that Data Scientists use are:\n",
    "1. Python\n",
    "2. R\n",
    "3. SQL\n",
    "4. Java\n",
    "5. JavaScript\n",
    "6. Scala\n",
    "7. C++"
   ]
  },
  {
   "cell_type": "markdown",
   "id": "ee01c5e1-eb09-4fb8-b257-4c183342641d",
   "metadata": {},
   "source": [
    "Some of the commonly used libraries used by Data Scientists include:\n",
    "1. Pandas\n",
    "2. Matplotlib\n",
    "3. Numpy\n",
    "4. Sckit-Learn\n",
    "5. Seaborn"
   ]
  },
  {
   "cell_type": "markdown",
   "id": "51b32184-a412-4f60-a825-2d92baf83275",
   "metadata": {},
   "source": [
    "|Data Science Tools|\n",
    "|------------------|\n",
    "|MongoDB\n",
    "|Apache Airflow\n",
    "|Apache Spark"
   ]
  },
  {
   "cell_type": "markdown",
   "id": "879d3603-e4c8-49bc-8a2a-06164f56d83d",
   "metadata": {},
   "source": [
    "### Below are a few examples of evaluating arithmetic expressions in Python"
   ]
  },
  {
   "cell_type": "code",
   "execution_count": 2,
   "id": "46cfb4da-d711-481a-9813-c127bd51902a",
   "metadata": {},
   "outputs": [
    {
     "data": {
      "text/plain": [
       "17"
      ]
     },
     "execution_count": 2,
     "metadata": {},
     "output_type": "execute_result"
    }
   ],
   "source": [
    "#This is a simple arithmetic expression to multiply then add integers\n",
    "(3*4)+5"
   ]
  },
  {
   "cell_type": "code",
   "execution_count": 3,
   "id": "66fa595b-cbd9-4d20-837f-3b374a3451b3",
   "metadata": {},
   "outputs": [
    {
     "data": {
      "text/plain": [
       "3.3333333333333335"
      ]
     },
     "execution_count": 3,
     "metadata": {},
     "output_type": "execute_result"
    }
   ],
   "source": [
    "#This will convert 200 minutes to hours by dividing by 60\n",
    "200/60"
   ]
  },
  {
   "cell_type": "markdown",
   "id": "aa3e6e87-f890-4747-8405-a73530b2ce1e",
   "metadata": {},
   "source": [
    "## Author\n",
    "Zainab AKINTAYO"
   ]
  },
  {
   "cell_type": "code",
   "execution_count": null,
   "id": "8732706c-acfa-4983-9441-8c31fc3e8144",
   "metadata": {},
   "outputs": [],
   "source": []
  }
 ],
 "metadata": {
  "kernelspec": {
   "display_name": "Python 3 (ipykernel)",
   "language": "python",
   "name": "python3"
  },
  "language_info": {
   "codemirror_mode": {
    "name": "ipython",
    "version": 3
   },
   "file_extension": ".py",
   "mimetype": "text/x-python",
   "name": "python",
   "nbconvert_exporter": "python",
   "pygments_lexer": "ipython3",
   "version": "3.12.9"
  }
 },
 "nbformat": 4,
 "nbformat_minor": 5
}
